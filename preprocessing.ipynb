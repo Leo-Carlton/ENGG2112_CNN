{
 "cells": [
  {
   "cell_type": "markdown",
   "metadata": {},
   "source": [
    "# CNN to detect skin cancer"
   ]
  },
  {
   "cell_type": "markdown",
   "metadata": {},
   "source": [
    "## Preprocessing to trim white padding and resize"
   ]
  },
  {
   "cell_type": "code",
   "execution_count": 1,
   "metadata": {},
   "outputs": [],
   "source": [
    "from PIL import Image\n",
    "import os\n",
    "import random\n",
    "import shutil\n",
    "\n",
    "# Set random seed for reproducibility\n",
    "random.seed(42)\n",
    "\n",
    "# Define categories and source base directory\n",
    "categories = [\"benign\", \"malignant\"]\n",
    "src_base_dir = \"/Volumes/SanDisk-64G\"\n",
    "output_base_dir = os.path.join(src_base_dir, \"processed_dataset_6000\")\n",
    "\n",
    "# Desired image size\n",
    "target_size = (512, 512)\n",
    "\n",
    "# Split ratios\n",
    "split_ratios = {\n",
    "    \"train\": 0.8,\n",
    "    \"val\": 0.1,\n",
    "    \"test\": 0.1\n",
    "}\n",
    "\n",
    "# Clear and recreate output folders\n",
    "for split in split_ratios:\n",
    "    for category in categories:\n",
    "        split_dir = os.path.join(output_base_dir, split, category)\n",
    "        os.makedirs(split_dir, exist_ok=True)\n",
    "\n",
    "# Process each category\n",
    "for category in categories:\n",
    "    src_dir = os.path.join(src_base_dir, f\"3000_{category}\")\n",
    "    images = [f for f in os.listdir(src_dir) if f.lower().endswith(('.png', '.jpg', '.jpeg'))]\n",
    "    random.shuffle(images)\n",
    "\n",
    "    total = len(images)\n",
    "    train_end = int(split_ratios[\"train\"] * total)\n",
    "    val_end = train_end + int(split_ratios[\"val\"] * total)\n",
    "\n",
    "    splits = {\n",
    "        \"train\": images[:train_end],\n",
    "        \"val\": images[train_end:val_end],\n",
    "        \"test\": images[val_end:]\n",
    "    }\n",
    "\n",
    "    for split, filenames in splits.items():\n",
    "        for filename in filenames:\n",
    "            src_path = os.path.join(src_dir, filename)\n",
    "            dst_path = os.path.join(output_base_dir, split, category, filename)\n",
    "            try:\n",
    "                with Image.open(src_path) as img:\n",
    "                    img_resized = img.resize(target_size, Image.LANCZOS)\n",
    "                    img_resized.save(dst_path)\n",
    "            except Exception as e:\n",
    "                pass\n"
   ]
  }
 ],
 "metadata": {
  "kernelspec": {
   "display_name": "Python 3",
   "language": "python",
   "name": "python3"
  },
  "language_info": {
   "codemirror_mode": {
    "name": "ipython",
    "version": 3
   },
   "file_extension": ".py",
   "mimetype": "text/x-python",
   "name": "python",
   "nbconvert_exporter": "python",
   "pygments_lexer": "ipython3",
   "version": "3.13.2"
  }
 },
 "nbformat": 4,
 "nbformat_minor": 2
}
