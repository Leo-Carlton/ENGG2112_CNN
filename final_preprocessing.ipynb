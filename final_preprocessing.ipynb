{
 "cells": [
  {
   "cell_type": "code",
   "execution_count": 1,
   "id": "127d9115",
   "metadata": {},
   "outputs": [
    {
     "name": "stdout",
     "output_type": "stream",
     "text": [
      "Processing complete.\n"
     ]
    }
   ],
   "source": [
    "import os\n",
    "import shutil\n",
    "import random\n",
    "from PIL import Image\n",
    "from pathlib import Path\n",
    "\n",
    "# Paths\n",
    "benign_dir = '/Users/gbm746/Documents/CNN_Images/stratified_benign'\n",
    "malignant_dir = '/Users/gbm746/Documents/CNN_Images/Malignant'\n",
    "output_root = '/Users/gbm746/Documents/processed_dataset'\n",
    "image_size = (512, 512)\n",
    "\n",
    "# Make sure output directory is clean\n",
    "if os.path.exists(output_root):\n",
    "    shutil.rmtree(output_root)\n",
    "\n",
    "# Define class folders and categories\n",
    "categories = {\n",
    "    'benign': benign_dir,\n",
    "    'malignant': malignant_dir\n",
    "}\n",
    "\n",
    "# Seed for reproducibility\n",
    "random.seed(42)\n",
    "\n",
    "# Create output directories\n",
    "splits = ['train', 'val', 'test']\n",
    "for split in splits:\n",
    "    for category in categories.keys():\n",
    "        os.makedirs(os.path.join(output_root, split, category), exist_ok=True)\n",
    "\n",
    "def process_and_split_images(category, path):\n",
    "    all_images = [\n",
    "        img for img in os.listdir(path)\n",
    "        if img.lower().endswith(('.jpg', '.jpeg', '.png'))  # Exclude .tif\n",
    "    ]\n",
    "\n",
    "    random.shuffle(all_images)\n",
    "\n",
    "    n = len(all_images)\n",
    "    train_cutoff = int(0.8 * n)\n",
    "    val_cutoff = int(0.9 * n)\n",
    "\n",
    "    splits_indices = {\n",
    "        'train': all_images[:train_cutoff],\n",
    "        'val': all_images[train_cutoff:val_cutoff],\n",
    "        'test': all_images[val_cutoff:]\n",
    "    }\n",
    "\n",
    "    for split, images in splits_indices.items():\n",
    "        for image_name in images:\n",
    "            input_path = os.path.join(path, image_name)\n",
    "            output_path = os.path.join(output_root, split, category, image_name)\n",
    "\n",
    "            try:\n",
    "                with Image.open(input_path) as img:\n",
    "                    img = img.convert('RGB')\n",
    "                    img_resized = img.resize(image_size, resample=Image.LANCZOS)\n",
    "                    img_resized.save(output_path)\n",
    "            except Exception as e:\n",
    "                print(f\"Failed to process {input_path}: {e}\")\n",
    "\n",
    "# Run for each category\n",
    "for label, folder_path in categories.items():\n",
    "    process_and_split_images(label, folder_path)\n",
    "\n",
    "print(\"Processing complete.\")\n"
   ]
  }
 ],
 "metadata": {
  "kernelspec": {
   "display_name": "Python 3",
   "language": "python",
   "name": "python3"
  },
  "language_info": {
   "codemirror_mode": {
    "name": "ipython",
    "version": 3
   },
   "file_extension": ".py",
   "mimetype": "text/x-python",
   "name": "python",
   "nbconvert_exporter": "python",
   "pygments_lexer": "ipython3",
   "version": "3.12.0"
  }
 },
 "nbformat": 4,
 "nbformat_minor": 5
}
